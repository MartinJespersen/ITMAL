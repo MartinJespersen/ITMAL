{
 "cells": [
  {
   "cell_type": "markdown",
   "metadata": {},
   "source": [
    "# ITMAL Exercise\n",
    "\n",
    "REVISIONS||\n",
    "---------||\n",
    "2018-1219|CEF, initial.                  \n",
    "2018-0206|CEF, updated and spell checked. \n",
    "2018-0207|CEF, made Qh optional.\n",
    "2018-0208|CEF, added PYTHONPATH for windows.\n",
    "2018-0212|CEF, small mod in itmalutils/utils.\n",
    "2019-0820|CEF, E19 ITMAL update.\n",
    "2020-0125|CEF, F20 ITMAL update.\n",
    "\n",
    "## Python Basics\n",
    "\n",
    "### Modules and Packages in Python\n",
    "\n",
    "Reuse of code in Jupyter notebooks can be done by either including a raw python source as a magic command\n",
    "\n",
    "```python\n",
    "%load filename.py\n",
    "```\n",
    "but this just pastes the source into the notebook and creates all kinds of pains regarding code maintenance.\n",
    "\n",
    "A better way is to use a python __module__. A module consists simply (and pythonic) of a directory with a module init file in it (possibly empty) \n",
    "```python\n",
    "libitmal/__init__.py\n",
    "```\n",
    "To this directory you can add modules in form of plain python files, say\n",
    "```python\n",
    "libitmal/utils.py\n",
    "```\n",
    "That's about it! The `libitmal` file tree should now look like\n",
    "```\n",
    "libitmal/\n",
    "├── __init__.py\n",
    "├── __pycache__\n",
    "│   ├── __init__.cpython-36.pyc\n",
    "│   └── utils.cpython-36.pyc\n",
    "├── utils.py\n",
    "```\n",
    "with the cache part only being present once the module has been initialized.\n",
    "\n",
    "You should now be able to use the `libitmal` unit via an import directive, like\n",
    "```python\n",
    "import numpy as np\n",
    "from libitmal import utils as itmalutils\n",
    "\n",
    "print(dir(itmalutils))\n",
    "print(itmalutils.__file__)\n",
    "\n",
    "X = np.array([[1,2],[3,-100]])\n",
    "itmalutils.PrintMatrix(X,\"mylabel=\")\n",
    "itmalutils.TestAll()\n",
    "```\n",
    "\n",
    "#### Qa Load and test the `libitmal` module\n",
    "\n",
    "Try out the `libitmal` module from [GITMAL]. Load this module and run the function\n",
    "\n",
    "```python\n",
    "from libitmal import utils as itmalutils\n",
    "utils.TestAll()\n",
    "```\n",
    "from this module.\n",
    "\n",
    "##### Implementation details\n",
    "\n",
    "Note that there is a python module ___include___ search path, that you may have to investigate and modify. For my Linux setup I have an export or declare statement in my .bashrc file, like\n",
    "\n",
    "```bash\n",
    "declare -x PYTHONPATH=~/ASE/ML/itmal:$PYTHONPATH\n",
    "```\n",
    "but your ```itmal```, the [GITMAL] root dir, may be placed elsewhere.\n",
    "\n",
    "For ___Windows___, you have to add `PYTHONPATH` to your user environment variables...see screenshot below (enlarge by modding the image width-tag or find the original png in the Figs directory).\n",
    "\n",
    "<img src=\"https://itundervisning.ase.au.dk/F20_itmal/L01/Figs/Screenshot_windows_enviroment_variables.png\" style=\"width:350px\">\n",
    "\n",
    "or if you, like me, hate setting up things in a GUI, and prefer a console, try in a CMD on windows\n",
    "\n",
    "```bash\n",
    "CMD> setx.exe PYTHONPATH \"C:\\Users\\auXXYYZZ\\itmal\"\n",
    "```\n",
    "\n",
    "replacing the username and path with whatever you have. If everything fails you could programmatically add your path to the libitmal directory as\n",
    "\n",
    "```python\n",
    "import sys,os\n",
    "sys.path.append(os.path.expanduser('~/itmal'))\n",
    "\n",
    "from libitmal import utils as itmalutils\n",
    "print(dir(itmalutils))\n",
    "print(itmalutils.__file__)\n",
    "```"
   ]
  },
  {
   "cell_type": "code",
   "execution_count": 1,
   "metadata": {},
   "outputs": [
    {
     "name": "stdout",
     "output_type": "stream",
     "text": "['AssertInRange', 'CheckFloat', 'DToXy', 'GenerateConfusionMatrix', 'GenerateResults', 'InRange', 'ListToMatrix', 'ListToVector', 'PrintMatrix', 'ResetRandom', 'ShowResult', 'TEST', 'TestAll', 'TestCheckFloat', 'TestPrintMatrix', 'TestVarName', 'VarName', 'XyToD', '__builtins__', '__cached__', '__doc__', '__file__', '__loader__', '__name__', '__package__', '__spec__', 'collections', 'ctxlib', 'inf', 'inspect', 'isFloat', 'isList', 'isNumpyArray', 'nan', 'np', 'random', 're', 'sklearn']\nC:\\Users\\marti\\itmal\\libitmal\\utils.py\n"
    }
   ],
   "source": [
    "from libitmal import utils as itmalutils\n",
    "print(dir(itmalutils))\n",
    "print(itmalutils.__file__)"
   ]
  },
  {
   "cell_type": "markdown",
   "metadata": {},
   "source": [
    "#### Qb Create your own module, with some functions, and test it\n",
    "\n",
    "Now create your own module, with some dummy functionality. Load it and run you dummy function in a Jupyter Notebook.\n",
    "\n",
    "Keep this module at hand, when coding, and try to capture reusable python functions in it as you invent them!"
   ]
  },
  {
   "cell_type": "code",
   "execution_count": 4,
   "metadata": {},
   "outputs": [
    {
     "name": "stdout",
     "output_type": "stream",
     "text": "4\n"
    }
   ],
   "source": [
    "from testModule import addition as a \n",
    "print(a.add(1,2))"
   ]
  },
  {
   "cell_type": "markdown",
   "metadata": {},
   "source": [
    "#### Qc How do you 'recompile' a module?\n",
    "\n",
    "When changing the module code, Jupyter will keep running on the old module. How do you force the Jupyter notebook to re-load the module changes? "
   ]
  },
  {
   "cell_type": "code",
   "execution_count": 3,
   "metadata": {},
   "outputs": [
    {
     "name": "stdout",
     "output_type": "stream",
     "text": "The autoreload extension is already loaded. To reload it, use:\n  %reload_ext autoreload\n3\n"
    }
   ],
   "source": [
    "#changing library code and then running this and it will work\n",
    "%load_ext autoreload\n",
    "%autoreload 2\n",
    "print(a.add(1,2))"
   ]
  },
  {
   "cell_type": "markdown",
   "metadata": {},
   "source": [
    "#### [OPTIONAL] Qd Write a Howto on Python Modules a Packages\n",
    "\n",
    "Write a short description of how to use modules in Python (notes on modules path, import directives, directory structure, etc.)"
   ]
  },
  {
   "cell_type": "code",
   "execution_count": 0,
   "metadata": {},
   "outputs": [],
   "source": [
    "# TODO: Qd..."
   ]
  },
  {
   "cell_type": "markdown",
   "metadata": {},
   "source": [
    "### Classes in Python\n",
    "\n",
    "Good news: Python got classes. Bad news: they are somewhat obscure compared to C++ classes. \n",
    "\n",
    "Though we will not use object-oriented programming in Python intensively, we still need some basic understanding of Python classes. Let's just dig into a class-demo, here is `MyClass` in Python\n",
    "\n",
    "```python\n",
    "class MyClass:\n",
    "    myvar = \"blah\"\n",
    "\n",
    "    def myfun(self):\n",
    "        print(\"This is a message inside the class.\")\n",
    "\n",
    "myobjectx = MyClass()\n",
    "```\n",
    "\n",
    "#### Qe Extend the class with some public and private functions and member variables\n",
    "\n",
    "How are private function and member variables represented in python classes? \n",
    "\n",
    "What is the meaning of `self` in python classes?\n",
    "\n",
    "What happens to a function inside a class if you forget `self` in the parameter list, like `def myfun():` instead of `def myfun(self):`?\n",
    "\n",
    "[OPTIONAL] What does 'class' and 'instance variables' in python correspond to in C++? Maybe you can figure it out, I did not really get it reading, say this tutorial\n",
    "\n",
    "> https://www.digitalocean.com/community/tutorials/understanding-class-and-instance-variables-in-python-3"
   ]
  },
  {
   "cell_type": "code",
   "execution_count": 23,
   "metadata": {},
   "outputs": [
    {
     "name": "stdout",
     "output_type": "stream",
     "text": "constructor called\nconstructor called\nThis is a message inside the class.\nThis is a message inside the class but called from static function.\nbefore: 1 and after: 2\nbefore: 2 and after: 3\n"
    }
   ],
   "source": [
    "import json\n",
    "class MyClass:\n",
    "    yvar = 1\n",
    "    def __init__(self, r):\n",
    "        print(\"constructor called\")\n",
    "        self.myvar=r\n",
    "    \n",
    "\n",
    "    def myfun(self):\n",
    "        print(\"This is a message inside the class.\")\n",
    "\n",
    "    def mynotfun():\n",
    "        print(\"This is a message inside the class but called from static function.\")\n",
    "\n",
    "    def changeStaticVar(self):\n",
    "        print(\"before: {0} and after: {1}\".format(self.yvar,self.yvar+1))\n",
    "        self.yvar+=1\n",
    "\n",
    "    def __str__(self):\n",
    "        return json.dumps(self, default=lambda o: self.__dict__, sort_keys=True, indent=4)\n",
    "\n",
    "\n",
    "\n",
    "myobjectx = MyClass(1)\n",
    "anotherobj = MyClass(1)\n",
    "myobjectx.myfun()\n",
    "MyClass.mynotfun()\n",
    "anotherobj.changeStaticVar()\n",
    "anotherobj.changeStaticVar()\n"
   ]
  },
  {
   "cell_type": "markdown",
   "metadata": {},
   "source": [
    "#### Qf Extend the class with a Constructor\n",
    "\n",
    "Figure a way to declare/define a constructor (CTOR) in a python class. How is it done in python?\n",
    "\n",
    "Is there a class destructor in python (DTOR)? Give a textual reason why/why-not python has a DTOR?\n",
    "yes but not used often because of garbage collection.\n",
    "\n",
    "Hint: python is garbage collection like in C#, and do not go into the details of `__del__, ___enter__, __exit__` functions...unless you find it irresistible to investigate."
   ]
  },
  {
   "cell_type": "code",
   "execution_count": 28,
   "metadata": {},
   "outputs": [
    {
     "ename": "TypeError",
     "evalue": "__init__() takes 1 positional argument but 2 were given",
     "output_type": "error",
     "traceback": [
      "\u001b[1;31m---------------------------------------------------------------------------\u001b[0m",
      "\u001b[1;31mTypeError\u001b[0m                                 Traceback (most recent call last)",
      "\u001b[1;32m<ipython-input-28-d73fe2037ea8>\u001b[0m in \u001b[0;36m<module>\u001b[1;34m\u001b[0m\n\u001b[1;32m----> 1\u001b[1;33m \u001b[0mserializedObj\u001b[0m \u001b[1;33m=\u001b[0m \u001b[0mMyClass\u001b[0m\u001b[1;33m(\u001b[0m\u001b[1;36m2\u001b[0m\u001b[1;33m)\u001b[0m\u001b[1;33m\u001b[0m\u001b[1;33m\u001b[0m\u001b[0m\n\u001b[0m\u001b[0;32m      2\u001b[0m \u001b[0mprint\u001b[0m\u001b[1;33m(\u001b[0m\u001b[0mstr\u001b[0m\u001b[1;33m(\u001b[0m\u001b[0mserializedObj\u001b[0m\u001b[1;33m)\u001b[0m\u001b[1;33m)\u001b[0m\u001b[1;33m\u001b[0m\u001b[1;33m\u001b[0m\u001b[0m\n",
      "\u001b[1;31mTypeError\u001b[0m: __init__() takes 1 positional argument but 2 were given"
     ]
    }
   ],
   "source": [
    "\n"
   ]
  },
  {
   "cell_type": "markdown",
   "metadata": {},
   "source": [
    "#### Qg Extend the class with a to-string function\n",
    "\n",
    "Then find a way to serialize a class, that is to make some `tostring()` functionality similar to a C++ \n",
    "\n",
    "```C++\n",
    "friend ostream& operator<<(ostream& s,const MyClass& x)\n",
    "{\n",
    "    return os << ..\n",
    "}\n",
    "```"
   ]
  },
  {
   "cell_type": "code",
   "execution_count": 24,
   "metadata": {},
   "outputs": [
    {
     "name": "stdout",
     "output_type": "stream",
     "text": "constructor called\n{\n    \"myvar\": 2\n}\n"
    }
   ],
   "source": [
    "serializedObj = MyClass(2)\n",
    "print(str(serializedObj))"
   ]
  },
  {
   "cell_type": "markdown",
   "metadata": {},
   "source": [
    "#### [OPTIONAL] Qh Write a Howto on Python Classes \n",
    "\n",
    "Write a _How-To use Classes Pythonically_, including a description of public/privacy, constructors/destructors, the meaning of `self`, and inheritance."
   ]
  },
  {
   "cell_type": "code",
   "execution_count": 0,
   "metadata": {},
   "outputs": [],
   "source": [
    "# TODO: Qh..."
   ]
  }
 ],
 "metadata": {
  "kernelspec": {
   "display_name": "Python 3",
   "language": "python",
   "name": "python3"
  },
  "language_info": {
   "codemirror_mode": {
    "name": "ipython",
    "version": 3
   },
   "file_extension": ".py",
   "mimetype": "text/x-python",
   "name": "python",
   "nbconvert_exporter": "python",
   "pygments_lexer": "ipython3",
   "version": "3.7.4-final"
  },
  "varInspector": {
   "cols": {
    "lenName": 16,
    "lenType": 16,
    "lenVar": 40
   },
   "kernels_config": {
    "python": {
     "delete_cmd_postfix": "",
     "delete_cmd_prefix": "del ",
     "library": "var_list.py",
     "varRefreshCmd": "print(var_dic_list())"
    },
    "r": {
     "delete_cmd_postfix": ") ",
     "delete_cmd_prefix": "rm(",
     "library": "var_list.r",
     "varRefreshCmd": "cat(var_dic_list()) "
    }
   },
   "types_to_exclude": [
    "module",
    "function",
    "builtin_function_or_method",
    "instance",
    "_Feature"
   ],
   "window_display": true
  }
 },
 "nbformat": 4,
 "nbformat_minor": 2
}